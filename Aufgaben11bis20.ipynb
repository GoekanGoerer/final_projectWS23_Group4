{
 "cells": [
  {
   "cell_type": "code",
   "execution_count": 104,
   "id": "61b10f79",
   "metadata": {},
   "outputs": [],
   "source": [
    "import pandas as pd\n",
    "import numpy as np\n",
    "import matplotlib.pyplot as plt\n",
    "import seaborn as sns\n",
    "import plotly.express as px\n",
    "from stargazer.stargazer import Stargazer\n",
    "%matplotlib inline\n",
    "import statsmodels.formula.api as smf\n",
    "import statsmodels.api as sm\n",
    "from statsmodels.api import add_constant\n",
    "import json\n",
    "import geopandas as gpd\n",
    "import plotly.graph_objects as go\n",
    "from sklearn.preprocessing import scale\n",
    "from sklearn.preprocessing import StandardScaler"
   ]
  },
  {
   "cell_type": "code",
   "execution_count": 105,
   "id": "4c34ef71",
   "metadata": {},
   "outputs": [],
   "source": [
    "df = pd.read_csv(\"data/df_final.csv\")"
   ]
  },
  {
   "cell_type": "code",
   "execution_count": 106,
   "id": "b1e574fc",
   "metadata": {},
   "outputs": [
    {
     "data": {
      "text/html": [
       "<div>\n",
       "<style scoped>\n",
       "    .dataframe tbody tr th:only-of-type {\n",
       "        vertical-align: middle;\n",
       "    }\n",
       "\n",
       "    .dataframe tbody tr th {\n",
       "        vertical-align: top;\n",
       "    }\n",
       "\n",
       "    .dataframe thead th {\n",
       "        text-align: right;\n",
       "    }\n",
       "</style>\n",
       "<table border=\"1\" class=\"dataframe\">\n",
       "  <thead>\n",
       "    <tr style=\"text-align: right;\">\n",
       "      <th></th>\n",
       "      <th>Unnamed: 0</th>\n",
       "      <th>Alter</th>\n",
       "      <th>Einkommen</th>\n",
       "      <th>Geschlecht</th>\n",
       "      <th>Zeit</th>\n",
       "      <th>KundeNr</th>\n",
       "      <th>Preis</th>\n",
       "      <th>Niederlassung</th>\n",
       "    </tr>\n",
       "  </thead>\n",
       "  <tbody>\n",
       "    <tr>\n",
       "      <th>1990</th>\n",
       "      <td>1990</td>\n",
       "      <td>70</td>\n",
       "      <td>69581</td>\n",
       "      <td>1.0</td>\n",
       "      <td>51</td>\n",
       "      <td>K0467</td>\n",
       "      <td>103751.58</td>\n",
       "      <td>Thüringen</td>\n",
       "    </tr>\n",
       "    <tr>\n",
       "      <th>1991</th>\n",
       "      <td>1991</td>\n",
       "      <td>38</td>\n",
       "      <td>48301</td>\n",
       "      <td>1.0</td>\n",
       "      <td>33</td>\n",
       "      <td>K0122</td>\n",
       "      <td>64230.98</td>\n",
       "      <td>Niedersachsen</td>\n",
       "    </tr>\n",
       "    <tr>\n",
       "      <th>1992</th>\n",
       "      <td>1992</td>\n",
       "      <td>67</td>\n",
       "      <td>63547</td>\n",
       "      <td>1.0</td>\n",
       "      <td>41</td>\n",
       "      <td>K1045</td>\n",
       "      <td>103123.57</td>\n",
       "      <td>Berlin</td>\n",
       "    </tr>\n",
       "    <tr>\n",
       "      <th>1993</th>\n",
       "      <td>1993</td>\n",
       "      <td>37</td>\n",
       "      <td>32686</td>\n",
       "      <td>1.0</td>\n",
       "      <td>36</td>\n",
       "      <td>K1096</td>\n",
       "      <td>49215.87</td>\n",
       "      <td>Baden-Württemberg</td>\n",
       "    </tr>\n",
       "    <tr>\n",
       "      <th>1994</th>\n",
       "      <td>1994</td>\n",
       "      <td>55</td>\n",
       "      <td>71240</td>\n",
       "      <td>1.0</td>\n",
       "      <td>49</td>\n",
       "      <td>K0861</td>\n",
       "      <td>106132.59</td>\n",
       "      <td>Bayern</td>\n",
       "    </tr>\n",
       "  </tbody>\n",
       "</table>\n",
       "</div>"
      ],
      "text/plain": [
       "      Unnamed: 0  Alter  Einkommen  Geschlecht  Zeit KundeNr      Preis  \\\n",
       "1990        1990     70      69581         1.0    51   K0467  103751.58   \n",
       "1991        1991     38      48301         1.0    33   K0122   64230.98   \n",
       "1992        1992     67      63547         1.0    41   K1045  103123.57   \n",
       "1993        1993     37      32686         1.0    36   K1096   49215.87   \n",
       "1994        1994     55      71240         1.0    49   K0861  106132.59   \n",
       "\n",
       "          Niederlassung  \n",
       "1990          Thüringen  \n",
       "1991      Niedersachsen  \n",
       "1992             Berlin  \n",
       "1993  Baden-Württemberg  \n",
       "1994             Bayern  "
      ]
     },
     "execution_count": 106,
     "metadata": {},
     "output_type": "execute_result"
    }
   ],
   "source": [
    "df.tail()"
   ]
  },
  {
   "cell_type": "markdown",
   "id": "20574155",
   "metadata": {},
   "source": [
    "# 11. Wie hoch ist die Korrelation (Pearson-Korrelation) zwischen den Variablen Alter, Einkommen, Preis und Zeit? (nur für die Kunden)"
   ]
  },
  {
   "cell_type": "code",
   "execution_count": 107,
   "id": "1ce07cd2",
   "metadata": {},
   "outputs": [],
   "source": [
    "selected_columns = [\"Alter\", \"Einkommen\", \"Preis\", \"Zeit\"]\n",
    "\n",
    "new_df = df[selected_columns]"
   ]
  },
  {
   "cell_type": "code",
   "execution_count": 108,
   "id": "2835d2e3",
   "metadata": {},
   "outputs": [
    {
     "data": {
      "image/png": "[encoded data removed]",
      "text/plain": [
       "<Figure size 500x500 with 2 Axes>"
      ]
     },
     "metadata": {},
     "output_type": "display_data"
    }
   ],
   "source": [
    "plt.figure(figsize = (5, 5))\n",
    "\n",
    "sns.heatmap(\n",
    "    new_df.select_dtypes(np.number).corr(),\n",
    "    cmap = 'coolwarm',\n",
    "    annot = True,\n",
    "    annot_kws = {\"size\": 8}\n",
    ");\n",
    "plt.show()"
   ]
  },
  {
   "cell_type": "markdown",
   "id": "b46f6ff0",
   "metadata": {},
   "source": [
    "# 12. Wie ist die Variable Zeit verteilt? (Kunden und Besucher zusammen)"
   ]
  },
  {
   "cell_type": "code",
   "execution_count": 109,
   "id": "8245e831",
   "metadata": {},
   "outputs": [
    {
     "name": "stderr",
     "output_type": "stream",
     "text": [
      "C:\\Users\\s_goerer20\\AppData\\Local\\Temp\\ipykernel_5520\\1193611392.py:1: UserWarning: \n",
      "\n",
      "`distplot` is a deprecated function and will be removed in seaborn v0.14.0.\n",
      "\n",
      "Please adapt your code to use either `displot` (a figure-level function with\n",
      "similar flexibility) or `histplot` (an axes-level function for histograms).\n",
      "\n",
      "For a guide to updating your code to use the new functions, please see\n",
      "https://gist.github.com/mwaskom/de44147ed2974457ad6372750bbe5751\n",
      "\n",
      "  sns.distplot(df[\"Zeit\"])\n"
     ]
    },
    {
     "data": {
      "text/plain": [
       "<Axes: xlabel='Zeit', ylabel='Density'>"
      ]
     },
     "execution_count": 109,
     "metadata": {},
     "output_type": "execute_result"
    },
    {
     "data": {
      "image/png": "[encoded data removed]",
      "text/plain": [
       "<Figure size 640x480 with 1 Axes>"
      ]
     },
     "metadata": {},
     "output_type": "display_data"
    }
   ],
   "source": [
    "sns.distplot(df[\"Zeit\"])"
   ]
  },
  {
   "cell_type": "markdown",
   "id": "5928b4cf",
   "metadata": {},
   "source": [
    "# 13. Wie viele Kunden haben keinen Kredit bei der Bank genommen, um das Auto zu kaufen? Die Kundenabteilung hat vergessen, diese Informationen zu sammeln. Wir können davon ausgehen, dass die Kunden mit einem Jahreseinkommen, das höher als der Autopreis ist, keinen Bankkredit benötigten"
   ]
  },
  {
   "cell_type": "code",
   "execution_count": 110,
   "id": "cc553e14",
   "metadata": {},
   "outputs": [
    {
     "data": {
      "text/plain": [
       "1099"
      ]
     },
     "execution_count": 110,
     "metadata": {},
     "output_type": "execute_result"
    }
   ],
   "source": [
    "Anzahl_Kreditnehmer = (df['Preis'] > df['Einkommen']).sum()\n",
    "Anzahl_Kreditnehmer"
   ]
  },
  {
   "cell_type": "markdown",
   "id": "a6de4337",
   "metadata": {},
   "source": [
    "# 14. Welches sind die sozioökonomischen Merkmale der Kunden, die den Kaufpreis beeinflussen? Wählen Sie die geeigneten abhängigen Variablen aus und schätzen Sie eine Regression unter Verwendung der geeigneten Methode."
   ]
  },
  {
   "cell_type": "code",
   "execution_count": 111,
   "id": "13937dfe",
   "metadata": {},
   "outputs": [
    {
     "data": {
      "text/html": [
       "<table style=\"text-align:center\"><tr><td colspan=\"2\" style=\"border-bottom: 1px solid black\"></td></tr>\n",
       "<tr><td style=\"text-align:left\"></td><td colspan=\"1\"><em>Dependent variable: Preis</em></td></tr><tr><td style=\"text-align:left\"></td><tr><td style=\"text-align:left\"></td><td>(1)</td></tr>\n",
       "<tr><td colspan=\"2\" style=\"border-bottom: 1px solid black\"></td></tr>\n",
       "\n",
       "<tr><td style=\"text-align:left\">Alter</td><td>478.688<sup>***</sup></td></tr>\n",
       "<tr><td style=\"text-align:left\"></td><td>(39.476)</td></tr>\n",
       "<tr><td style=\"text-align:left\">Einkommen</td><td>1.063<sup>***</sup></td></tr>\n",
       "<tr><td style=\"text-align:left\"></td><td>(0.029)</td></tr>\n",
       "<tr><td style=\"text-align:left\">Geschlecht</td><td>2140.939<sup>***</sup></td></tr>\n",
       "<tr><td style=\"text-align:left\"></td><td>(636.899)</td></tr>\n",
       "<tr><td style=\"text-align:left\">Intercept</td><td>909.536<sup></sup></td></tr>\n",
       "<tr><td style=\"text-align:left\"></td><td>(1390.088)</td></tr>\n",
       "\n",
       "<td colspan=\"2\" style=\"border-bottom: 1px solid black\"></td></tr>\n",
       "<tr><td style=\"text-align: left\">Observations</td><td>1104</td></tr><tr><td style=\"text-align: left\">R<sup>2</sup></td><td>0.828</td></tr><tr><td style=\"text-align: left\">Adjusted R<sup>2</sup></td><td>0.828</td></tr><tr><td style=\"text-align: left\">Residual Std. Error</td><td>10151.954 (df=1100)</td></tr><tr><td style=\"text-align: left\">F Statistic</td><td>1768.404<sup>***</sup> (df=3; 1100)</td></tr>\n",
       "<tr><td colspan=\"2\" style=\"border-bottom: 1px solid black\"></td></tr><tr><td style=\"text-align: left\">Note:</td><td colspan=\"1\" style=\"text-align: right\"><sup>*</sup>p&lt;0.1; <sup>**</sup>p&lt;0.05; <sup>***</sup>p&lt;0.01</td></tr></table>"
      ],
      "text/plain": [
       "<stargazer.stargazer.Stargazer at 0x2ab8dcb1ad0>"
      ]
     },
     "execution_count": 111,
     "metadata": {},
     "output_type": "execute_result"
    }
   ],
   "source": [
    "model = smf.ols(\"Preis ~ Alter + Geschlecht + Einkommen\", data=df).fit()\n",
    "Stargazer([model])"
   ]
  },
  {
   "cell_type": "code",
   "execution_count": 112,
   "id": "cb185182",
   "metadata": {},
   "outputs": [
    {
     "data": {
      "text/html": [
       "<table class=\"simpletable\">\n",
       "<caption>OLS Regression Results</caption>\n",
       "<tr>\n",
       "  <th>Dep. Variable:</th>          <td>Preis</td>      <th>  R-squared:         </th> <td>   0.828</td> \n",
       "</tr>\n",
       "<tr>\n",
       "  <th>Model:</th>                   <td>OLS</td>       <th>  Adj. R-squared:    </th> <td>   0.828</td> \n",
       "</tr>\n",
       "<tr>\n",
       "  <th>Method:</th>             <td>Least Squares</td>  <th>  F-statistic:       </th> <td>   1768.</td> \n",
       "</tr>\n",
       "<tr>\n",
       "  <th>Date:</th>             <td>Wed, 03 Jan 2024</td> <th>  Prob (F-statistic):</th>  <td>  0.00</td>  \n",
       "</tr>\n",
       "<tr>\n",
       "  <th>Time:</th>                 <td>22:45:07</td>     <th>  Log-Likelihood:    </th> <td> -11749.</td> \n",
       "</tr>\n",
       "<tr>\n",
       "  <th>No. Observations:</th>      <td>  1104</td>      <th>  AIC:               </th> <td>2.351e+04</td>\n",
       "</tr>\n",
       "<tr>\n",
       "  <th>Df Residuals:</th>          <td>  1100</td>      <th>  BIC:               </th> <td>2.353e+04</td>\n",
       "</tr>\n",
       "<tr>\n",
       "  <th>Df Model:</th>              <td>     3</td>      <th>                     </th>     <td> </td>    \n",
       "</tr>\n",
       "<tr>\n",
       "  <th>Covariance Type:</th>      <td>nonrobust</td>    <th>                     </th>     <td> </td>    \n",
       "</tr>\n",
       "</table>\n",
       "<table class=\"simpletable\">\n",
       "<tr>\n",
       "       <td></td>         <th>coef</th>     <th>std err</th>      <th>t</th>      <th>P>|t|</th>  <th>[0.025</th>    <th>0.975]</th>  \n",
       "</tr>\n",
       "<tr>\n",
       "  <th>Intercept</th>  <td>  909.5363</td> <td> 1390.088</td> <td>    0.654</td> <td> 0.513</td> <td>-1817.988</td> <td> 3637.061</td>\n",
       "</tr>\n",
       "<tr>\n",
       "  <th>Alter</th>      <td>  478.6882</td> <td>   39.476</td> <td>   12.126</td> <td> 0.000</td> <td>  401.232</td> <td>  556.145</td>\n",
       "</tr>\n",
       "<tr>\n",
       "  <th>Geschlecht</th> <td> 2140.9389</td> <td>  636.899</td> <td>    3.362</td> <td> 0.001</td> <td>  891.264</td> <td> 3390.614</td>\n",
       "</tr>\n",
       "<tr>\n",
       "  <th>Einkommen</th>  <td>    1.0626</td> <td>    0.029</td> <td>   37.163</td> <td> 0.000</td> <td>    1.006</td> <td>    1.119</td>\n",
       "</tr>\n",
       "</table>\n",
       "<table class=\"simpletable\">\n",
       "<tr>\n",
       "  <th>Omnibus:</th>       <td> 1.281</td> <th>  Durbin-Watson:     </th> <td>   2.111</td>\n",
       "</tr>\n",
       "<tr>\n",
       "  <th>Prob(Omnibus):</th> <td> 0.527</td> <th>  Jarque-Bera (JB):  </th> <td>   1.279</td>\n",
       "</tr>\n",
       "<tr>\n",
       "  <th>Skew:</th>          <td> 0.016</td> <th>  Prob(JB):          </th> <td>   0.527</td>\n",
       "</tr>\n",
       "<tr>\n",
       "  <th>Kurtosis:</th>      <td> 2.836</td> <th>  Cond. No.          </th> <td>2.81e+05</td>\n",
       "</tr>\n",
       "</table><br/><br/>Notes:<br/>[1] Standard Errors assume that the covariance matrix of the errors is correctly specified.<br/>[2] The condition number is large, 2.81e+05. This might indicate that there are<br/>strong multicollinearity or other numerical problems."
      ],
      "text/latex": [
       "\\begin{center}\n",
       "\\begin{tabular}{lclc}\n",
       "\\toprule\n",
       "\\textbf{Dep. Variable:}    &      Preis       & \\textbf{  R-squared:         } &     0.828   \\\\\n",
       "\\textbf{Model:}            &       OLS        & \\textbf{  Adj. R-squared:    } &     0.828   \\\\\n",
       "\\textbf{Method:}           &  Least Squares   & \\textbf{  F-statistic:       } &     1768.   \\\\\n",
       "\\textbf{Date:}             & Wed, 03 Jan 2024 & \\textbf{  Prob (F-statistic):} &     0.00    \\\\\n",
       "\\textbf{Time:}             &     22:45:07     & \\textbf{  Log-Likelihood:    } &   -11749.   \\\\\n",
       "\\textbf{No. Observations:} &        1104      & \\textbf{  AIC:               } & 2.351e+04   \\\\\n",
       "\\textbf{Df Residuals:}     &        1100      & \\textbf{  BIC:               } & 2.353e+04   \\\\\n",
       "\\textbf{Df Model:}         &           3      & \\textbf{                     } &             \\\\\n",
       "\\textbf{Covariance Type:}  &    nonrobust     & \\textbf{                     } &             \\\\\n",
       "\\bottomrule\n",
       "\\end{tabular}\n",
       "\\begin{tabular}{lcccccc}\n",
       "                    & \\textbf{coef} & \\textbf{std err} & \\textbf{t} & \\textbf{P$> |$t$|$} & \\textbf{[0.025} & \\textbf{0.975]}  \\\\\n",
       "\\midrule\n",
       "\\textbf{Intercept}  &     909.5363  &     1390.088     &     0.654  &         0.513        &    -1817.988    &     3637.061     \\\\\n",
       "\\textbf{Alter}      &     478.6882  &       39.476     &    12.126  &         0.000        &      401.232    &      556.145     \\\\\n",
       "\\textbf{Geschlecht} &    2140.9389  &      636.899     &     3.362  &         0.001        &      891.264    &     3390.614     \\\\\n",
       "\\textbf{Einkommen}  &       1.0626  &        0.029     &    37.163  &         0.000        &        1.006    &        1.119     \\\\\n",
       "\\bottomrule\n",
       "\\end{tabular}\n",
       "\\begin{tabular}{lclc}\n",
       "\\textbf{Omnibus:}       &  1.281 & \\textbf{  Durbin-Watson:     } &    2.111  \\\\\n",
       "\\textbf{Prob(Omnibus):} &  0.527 & \\textbf{  Jarque-Bera (JB):  } &    1.279  \\\\\n",
       "\\textbf{Skew:}          &  0.016 & \\textbf{  Prob(JB):          } &    0.527  \\\\\n",
       "\\textbf{Kurtosis:}      &  2.836 & \\textbf{  Cond. No.          } & 2.81e+05  \\\\\n",
       "\\bottomrule\n",
       "\\end{tabular}\n",
       "%\\caption{OLS Regression Results}\n",
       "\\end{center}\n",
       "\n",
       "Notes: \\newline\n",
       " [1] Standard Errors assume that the covariance matrix of the errors is correctly specified. \\newline\n",
       " [2] The condition number is large, 2.81e+05. This might indicate that there are \\newline\n",
       " strong multicollinearity or other numerical problems."
      ],
      "text/plain": [
       "<class 'statsmodels.iolib.summary.Summary'>\n",
       "\"\"\"\n",
       "                            OLS Regression Results                            \n",
       "==============================================================================\n",
       "Dep. Variable:                  Preis   R-squared:                       0.828\n",
       "Model:                            OLS   Adj. R-squared:                  0.828\n",
       "Method:                 Least Squares   F-statistic:                     1768.\n",
       "Date:                Wed, 03 Jan 2024   Prob (F-statistic):               0.00\n",
       "Time:                        22:45:07   Log-Likelihood:                -11749.\n",
       "No. Observations:                1104   AIC:                         2.351e+04\n",
       "Df Residuals:                    1100   BIC:                         2.353e+04\n",
       "Df Model:                           3                                         \n",
       "Covariance Type:            nonrobust                                         \n",
       "==============================================================================\n",
       "                 coef    std err          t      P>|t|      [0.025      0.975]\n",
       "------------------------------------------------------------------------------\n",
       "Intercept    909.5363   1390.088      0.654      0.513   -1817.988    3637.061\n",
       "Alter        478.6882     39.476     12.126      0.000     401.232     556.145\n",
       "Geschlecht  2140.9389    636.899      3.362      0.001     891.264    3390.614\n",
       "Einkommen      1.0626      0.029     37.163      0.000       1.006       1.119\n",
       "==============================================================================\n",
       "Omnibus:                        1.281   Durbin-Watson:                   2.111\n",
       "Prob(Omnibus):                  0.527   Jarque-Bera (JB):                1.279\n",
       "Skew:                           0.016   Prob(JB):                        0.527\n",
       "Kurtosis:                       2.836   Cond. No.                     2.81e+05\n",
       "==============================================================================\n",
       "\n",
       "Notes:\n",
       "[1] Standard Errors assume that the covariance matrix of the errors is correctly specified.\n",
       "[2] The condition number is large, 2.81e+05. This might indicate that there are\n",
       "strong multicollinearity or other numerical problems.\n",
       "\"\"\""
      ]
     },
     "execution_count": 112,
     "metadata": {},
     "output_type": "execute_result"
    }
   ],
   "source": [
    "model = sm.OLS.from_formula(\"Preis ~ Alter + Geschlecht + Einkommen\", data=df).fit()\n",
    "model.summary()"
   ]
  },
  {
   "cell_type": "markdown",
   "id": "e5186045",
   "metadata": {},
   "source": [
    "# 15. Prognostizieren Sie den Kaufpreis eines unserer Autos für einen männlichen Kunden im Alter von 32 Jahren mit einem Einkommen von 30.000 Euro. Prognostizieren Sie den Kaufpreis eines unserer Autos für einen männlichen Kunden im Alter von 51 Jahren und mit einem Einkommen von 54.000 Euro"
   ]
  },
  {
   "cell_type": "code",
   "execution_count": 113,
   "id": "ad429705",
   "metadata": {},
   "outputs": [],
   "source": [
    "from statsmodels.api import add_constant"
   ]
  },
  {
   "cell_type": "code",
   "execution_count": 114,
   "id": "80647a03",
   "metadata": {},
   "outputs": [
    {
     "data": {
      "text/html": [
       "<div>\n",
       "<style scoped>\n",
       "    .dataframe tbody tr th:only-of-type {\n",
       "        vertical-align: middle;\n",
       "    }\n",
       "\n",
       "    .dataframe tbody tr th {\n",
       "        vertical-align: top;\n",
       "    }\n",
       "\n",
       "    .dataframe thead th {\n",
       "        text-align: right;\n",
       "    }\n",
       "</style>\n",
       "<table border=\"1\" class=\"dataframe\">\n",
       "  <thead>\n",
       "    <tr style=\"text-align: right;\">\n",
       "      <th></th>\n",
       "      <th>const</th>\n",
       "      <th>Alter</th>\n",
       "      <th>Geschlecht</th>\n",
       "      <th>Einkommen</th>\n",
       "    </tr>\n",
       "  </thead>\n",
       "  <tbody>\n",
       "    <tr>\n",
       "      <th>0</th>\n",
       "      <td>1.0</td>\n",
       "      <td>32</td>\n",
       "      <td>1</td>\n",
       "      <td>30000</td>\n",
       "    </tr>\n",
       "    <tr>\n",
       "      <th>1</th>\n",
       "      <td>1.0</td>\n",
       "      <td>51</td>\n",
       "      <td>1</td>\n",
       "      <td>54000</td>\n",
       "    </tr>\n",
       "  </tbody>\n",
       "</table>\n",
       "</div>"
      ],
      "text/plain": [
       "   const  Alter  Geschlecht  Einkommen\n",
       "0    1.0     32           1      30000\n",
       "1    1.0     51           1      54000"
      ]
     },
     "execution_count": 114,
     "metadata": {},
     "output_type": "execute_result"
    }
   ],
   "source": [
    "X_predict = pd.DataFrame({\n",
    "    'Alter': [32, 51],           \n",
    "    'Geschlecht': [1, 1],\n",
    "    'Einkommen': [30000, 54000] \n",
    "})\n",
    "\n",
    "X_predict = add_constant(X_predict, has_constant='add')\n",
    "X_predict"
   ]
  },
  {
   "cell_type": "code",
   "execution_count": 115,
   "id": "14624061",
   "metadata": {},
   "outputs": [
    {
     "data": {
      "text/plain": [
       "0    50245.383433\n",
       "1    84841.968072\n",
       "dtype: float64"
      ]
     },
     "execution_count": 115,
     "metadata": {},
     "output_type": "execute_result"
    }
   ],
   "source": [
    "predicted_preis = model.predict(X_predict)\n",
    "predicted_preis"
   ]
  },
  {
   "cell_type": "markdown",
   "id": "fae6c056",
   "metadata": {},
   "source": [
    "# 16. In Bezug auf die vorherige Frage: Welche Variable beeinflusst den Preis des Autos am meisten? Mit anderen Worten: Die von Ihnen geschätzten Regressionskoeffizienten müssen direkt vergleichbar sein. Wie sollen die Daten transformiert werden? Tipp: Beta-Werte."
   ]
  },
  {
   "cell_type": "code",
   "execution_count": 116,
   "id": "84897cf0",
   "metadata": {},
   "outputs": [],
   "source": [
    "scaler_X = StandardScaler()"
   ]
  },
  {
   "cell_type": "code",
   "execution_count": 117,
   "id": "b64f7299",
   "metadata": {},
   "outputs": [],
   "source": [
    "df[['Alter', 'Geschlecht', 'Einkommen']] = scaler_X.fit_transform(df[['Alter', 'Geschlecht', 'Einkommen']])"
   ]
  },
  {
   "cell_type": "code",
   "execution_count": 118,
   "id": "9d4f0780",
   "metadata": {},
   "outputs": [],
   "source": [
    "scaler_y = StandardScaler()"
   ]
  },
  {
   "cell_type": "code",
   "execution_count": 119,
   "id": "581ef280",
   "metadata": {},
   "outputs": [],
   "source": [
    "df['Preis'] = scaler_y.fit_transform(df[['Preis']])"
   ]
  },
  {
   "cell_type": "code",
   "execution_count": 120,
   "id": "1133ddbb",
   "metadata": {},
   "outputs": [
    {
     "name": "stdout",
     "output_type": "stream",
     "text": [
      "                            OLS Regression Results                            \n",
      "==============================================================================\n",
      "Dep. Variable:                  Preis   R-squared:                       0.828\n",
      "Model:                            OLS   Adj. R-squared:                  0.828\n",
      "Method:                 Least Squares   F-statistic:                     1768.\n",
      "Date:                Wed, 03 Jan 2024   Prob (F-statistic):               0.00\n",
      "Time:                        22:45:07   Log-Likelihood:                -593.99\n",
      "No. Observations:                1104   AIC:                             1196.\n",
      "Df Residuals:                    1100   BIC:                             1216.\n",
      "Df Model:                           3                                         \n",
      "Covariance Type:            nonrobust                                         \n",
      "==============================================================================\n",
      "                 coef    std err          t      P>|t|      [0.025      0.975]\n",
      "------------------------------------------------------------------------------\n",
      "Intercept      0.0024      0.013      0.191      0.849      -0.022       0.027\n",
      "Alter          0.2331      0.019     12.126      0.000       0.195       0.271\n",
      "Geschlecht     0.0427      0.013      3.362      0.001       0.018       0.068\n",
      "Einkommen      0.7105      0.019     37.163      0.000       0.673       0.748\n",
      "==============================================================================\n",
      "Omnibus:                        1.281   Durbin-Watson:                   2.111\n",
      "Prob(Omnibus):                  0.527   Jarque-Bera (JB):                1.279\n",
      "Skew:                           0.016   Prob(JB):                        0.527\n",
      "Kurtosis:                       2.836   Cond. No.                         2.72\n",
      "==============================================================================\n",
      "\n",
      "Notes:\n",
      "[1] Standard Errors assume that the covariance matrix of the errors is correctly specified.\n"
     ]
    }
   ],
   "source": [
    "try:\n",
    "    model = sm.OLS.from_formula(\"Preis ~ Alter + Geschlecht + Einkommen\", data=df).fit()\n",
    "    print(model.summary())\n",
    "except Exception as e:\n",
    "    print(f\"Error: {str(e)}\")"
   ]
  },
  {
   "cell_type": "markdown",
   "id": "cf034ac5",
   "metadata": {},
   "source": [
    "# 17. Schätzen Sie eine Regression, die die Wahrscheinlichkeit des Kaufs eines Autos ermittelt. Verwenden Sie die entsprechende Methode. Tipp: Logistische Regression."
   ]
  },
  {
   "cell_type": "code",
   "execution_count": 121,
   "id": "d90b4918",
   "metadata": {},
   "outputs": [],
   "source": [
    "df['gekauft_1'] = df['Preis'].notna().astype(int)"
   ]
  },
  {
   "cell_type": "code",
   "execution_count": 122,
   "id": "585aee3c",
   "metadata": {},
   "outputs": [
    {
     "data": {
      "text/html": [
       "<div>\n",
       "<style scoped>\n",
       "    .dataframe tbody tr th:only-of-type {\n",
       "        vertical-align: middle;\n",
       "    }\n",
       "\n",
       "    .dataframe tbody tr th {\n",
       "        vertical-align: top;\n",
       "    }\n",
       "\n",
       "    .dataframe thead th {\n",
       "        text-align: right;\n",
       "    }\n",
       "</style>\n",
       "<table border=\"1\" class=\"dataframe\">\n",
       "  <thead>\n",
       "    <tr style=\"text-align: right;\">\n",
       "      <th></th>\n",
       "      <th>Unnamed: 0</th>\n",
       "      <th>Alter</th>\n",
       "      <th>Einkommen</th>\n",
       "      <th>Geschlecht</th>\n",
       "      <th>Zeit</th>\n",
       "      <th>KundeNr</th>\n",
       "      <th>Preis</th>\n",
       "      <th>Niederlassung</th>\n",
       "      <th>gekauft_1</th>\n",
       "    </tr>\n",
       "  </thead>\n",
       "  <tbody>\n",
       "    <tr>\n",
       "      <th>1990</th>\n",
       "      <td>1990</td>\n",
       "      <td>1.666406</td>\n",
       "      <td>0.640560</td>\n",
       "      <td>0.796183</td>\n",
       "      <td>51</td>\n",
       "      <td>K0467</td>\n",
       "      <td>0.604277</td>\n",
       "      <td>Thüringen</td>\n",
       "      <td>1</td>\n",
       "    </tr>\n",
       "    <tr>\n",
       "      <th>1991</th>\n",
       "      <td>1991</td>\n",
       "      <td>-1.020449</td>\n",
       "      <td>-0.660989</td>\n",
       "      <td>0.796183</td>\n",
       "      <td>33</td>\n",
       "      <td>K0122</td>\n",
       "      <td>-1.011910</td>\n",
       "      <td>Niedersachsen</td>\n",
       "      <td>1</td>\n",
       "    </tr>\n",
       "    <tr>\n",
       "      <th>1992</th>\n",
       "      <td>1992</td>\n",
       "      <td>1.414513</td>\n",
       "      <td>0.271502</td>\n",
       "      <td>0.796183</td>\n",
       "      <td>41</td>\n",
       "      <td>K1045</td>\n",
       "      <td>0.578595</td>\n",
       "      <td>Berlin</td>\n",
       "      <td>1</td>\n",
       "    </tr>\n",
       "    <tr>\n",
       "      <th>1993</th>\n",
       "      <td>1993</td>\n",
       "      <td>-1.104414</td>\n",
       "      <td>-1.616050</td>\n",
       "      <td>0.796183</td>\n",
       "      <td>36</td>\n",
       "      <td>K1096</td>\n",
       "      <td>-1.625950</td>\n",
       "      <td>Baden-Württemberg</td>\n",
       "      <td>1</td>\n",
       "    </tr>\n",
       "    <tr>\n",
       "      <th>1994</th>\n",
       "      <td>1994</td>\n",
       "      <td>0.406942</td>\n",
       "      <td>0.742030</td>\n",
       "      <td>0.796183</td>\n",
       "      <td>49</td>\n",
       "      <td>K0861</td>\n",
       "      <td>0.701648</td>\n",
       "      <td>Bayern</td>\n",
       "      <td>1</td>\n",
       "    </tr>\n",
       "  </tbody>\n",
       "</table>\n",
       "</div>"
      ],
      "text/plain": [
       "      Unnamed: 0     Alter  Einkommen  Geschlecht  Zeit KundeNr     Preis  \\\n",
       "1990        1990  1.666406   0.640560    0.796183    51   K0467  0.604277   \n",
       "1991        1991 -1.020449  -0.660989    0.796183    33   K0122 -1.011910   \n",
       "1992        1992  1.414513   0.271502    0.796183    41   K1045  0.578595   \n",
       "1993        1993 -1.104414  -1.616050    0.796183    36   K1096 -1.625950   \n",
       "1994        1994  0.406942   0.742030    0.796183    49   K0861  0.701648   \n",
       "\n",
       "          Niederlassung  gekauft_1  \n",
       "1990          Thüringen          1  \n",
       "1991      Niedersachsen          1  \n",
       "1992             Berlin          1  \n",
       "1993  Baden-Württemberg          1  \n",
       "1994             Bayern          1  "
      ]
     },
     "execution_count": 122,
     "metadata": {},
     "output_type": "execute_result"
    }
   ],
   "source": [
    "df.tail()"
   ]
  },
  {
   "cell_type": "code",
   "execution_count": 123,
   "id": "df4e729e",
   "metadata": {},
   "outputs": [
    {
     "name": "stdout",
     "output_type": "stream",
     "text": [
      "Optimization terminated successfully.\n",
      "         Current function value: 0.579041\n",
      "         Iterations 6\n"
     ]
    }
   ],
   "source": [
    "reg1_gekauft1 = smf.logit('gekauft_1 ~ Alter + Geschlecht + Einkommen + Zeit', data=df).fit()"
   ]
  },
  {
   "cell_type": "code",
   "execution_count": 124,
   "id": "57c5d870",
   "metadata": {},
   "outputs": [
    {
     "data": {
      "text/html": [
       "<table class=\"simpletable\">\n",
       "<caption>Logit Regression Results</caption>\n",
       "<tr>\n",
       "  <th>Dep. Variable:</th>       <td>gekauft_1</td>    <th>  No. Observations:  </th>  <td>  1995</td>  \n",
       "</tr>\n",
       "<tr>\n",
       "  <th>Model:</th>                 <td>Logit</td>      <th>  Df Residuals:      </th>  <td>  1990</td>  \n",
       "</tr>\n",
       "<tr>\n",
       "  <th>Method:</th>                 <td>MLE</td>       <th>  Df Model:          </th>  <td>     4</td>  \n",
       "</tr>\n",
       "<tr>\n",
       "  <th>Date:</th>            <td>Wed, 03 Jan 2024</td> <th>  Pseudo R-squ.:     </th>  <td>0.1577</td>  \n",
       "</tr>\n",
       "<tr>\n",
       "  <th>Time:</th>                <td>22:45:08</td>     <th>  Log-Likelihood:    </th> <td> -1155.2</td> \n",
       "</tr>\n",
       "<tr>\n",
       "  <th>converged:</th>             <td>True</td>       <th>  LL-Null:           </th> <td> -1371.4</td> \n",
       "</tr>\n",
       "<tr>\n",
       "  <th>Covariance Type:</th>     <td>nonrobust</td>    <th>  LLR p-value:       </th> <td>2.638e-92</td>\n",
       "</tr>\n",
       "</table>\n",
       "<table class=\"simpletable\">\n",
       "<tr>\n",
       "       <td></td>         <th>coef</th>     <th>std err</th>      <th>z</th>      <th>P>|z|</th>  <th>[0.025</th>    <th>0.975]</th>  \n",
       "</tr>\n",
       "<tr>\n",
       "  <th>Intercept</th>  <td>   -3.8768</td> <td>    0.239</td> <td>  -16.220</td> <td> 0.000</td> <td>   -4.345</td> <td>   -3.408</td>\n",
       "</tr>\n",
       "<tr>\n",
       "  <th>Alter</th>      <td>    0.2143</td> <td>    0.082</td> <td>    2.623</td> <td> 0.009</td> <td>    0.054</td> <td>    0.374</td>\n",
       "</tr>\n",
       "<tr>\n",
       "  <th>Geschlecht</th> <td>    0.1201</td> <td>    0.050</td> <td>    2.393</td> <td> 0.017</td> <td>    0.022</td> <td>    0.218</td>\n",
       "</tr>\n",
       "<tr>\n",
       "  <th>Einkommen</th>  <td>   -0.6881</td> <td>    0.089</td> <td>   -7.753</td> <td> 0.000</td> <td>   -0.862</td> <td>   -0.514</td>\n",
       "</tr>\n",
       "<tr>\n",
       "  <th>Zeit</th>       <td>    0.1022</td> <td>    0.006</td> <td>   17.530</td> <td> 0.000</td> <td>    0.091</td> <td>    0.114</td>\n",
       "</tr>\n",
       "</table>"
      ],
      "text/latex": [
       "\\begin{center}\n",
       "\\begin{tabular}{lclc}\n",
       "\\toprule\n",
       "\\textbf{Dep. Variable:}   &    gekauft\\_1    & \\textbf{  No. Observations:  } &     1995    \\\\\n",
       "\\textbf{Model:}           &      Logit       & \\textbf{  Df Residuals:      } &     1990    \\\\\n",
       "\\textbf{Method:}          &       MLE        & \\textbf{  Df Model:          } &        4    \\\\\n",
       "\\textbf{Date:}            & Wed, 03 Jan 2024 & \\textbf{  Pseudo R-squ.:     } &   0.1577    \\\\\n",
       "\\textbf{Time:}            &     22:45:08     & \\textbf{  Log-Likelihood:    } &   -1155.2   \\\\\n",
       "\\textbf{converged:}       &       True       & \\textbf{  LL-Null:           } &   -1371.4   \\\\\n",
       "\\textbf{Covariance Type:} &    nonrobust     & \\textbf{  LLR p-value:       } & 2.638e-92   \\\\\n",
       "\\bottomrule\n",
       "\\end{tabular}\n",
       "\\begin{tabular}{lcccccc}\n",
       "                    & \\textbf{coef} & \\textbf{std err} & \\textbf{z} & \\textbf{P$> |$z$|$} & \\textbf{[0.025} & \\textbf{0.975]}  \\\\\n",
       "\\midrule\n",
       "\\textbf{Intercept}  &      -3.8768  &        0.239     &   -16.220  &         0.000        &       -4.345    &       -3.408     \\\\\n",
       "\\textbf{Alter}      &       0.2143  &        0.082     &     2.623  &         0.009        &        0.054    &        0.374     \\\\\n",
       "\\textbf{Geschlecht} &       0.1201  &        0.050     &     2.393  &         0.017        &        0.022    &        0.218     \\\\\n",
       "\\textbf{Einkommen}  &      -0.6881  &        0.089     &    -7.753  &         0.000        &       -0.862    &       -0.514     \\\\\n",
       "\\textbf{Zeit}       &       0.1022  &        0.006     &    17.530  &         0.000        &        0.091    &        0.114     \\\\\n",
       "\\bottomrule\n",
       "\\end{tabular}\n",
       "%\\caption{Logit Regression Results}\n",
       "\\end{center}"
      ],
      "text/plain": [
       "<class 'statsmodels.iolib.summary.Summary'>\n",
       "\"\"\"\n",
       "                           Logit Regression Results                           \n",
       "==============================================================================\n",
       "Dep. Variable:              gekauft_1   No. Observations:                 1995\n",
       "Model:                          Logit   Df Residuals:                     1990\n",
       "Method:                           MLE   Df Model:                            4\n",
       "Date:                Wed, 03 Jan 2024   Pseudo R-squ.:                  0.1577\n",
       "Time:                        22:45:08   Log-Likelihood:                -1155.2\n",
       "converged:                       True   LL-Null:                       -1371.4\n",
       "Covariance Type:            nonrobust   LLR p-value:                 2.638e-92\n",
       "==============================================================================\n",
       "                 coef    std err          z      P>|z|      [0.025      0.975]\n",
       "------------------------------------------------------------------------------\n",
       "Intercept     -3.8768      0.239    -16.220      0.000      -4.345      -3.408\n",
       "Alter          0.2143      0.082      2.623      0.009       0.054       0.374\n",
       "Geschlecht     0.1201      0.050      2.393      0.017       0.022       0.218\n",
       "Einkommen     -0.6881      0.089     -7.753      0.000      -0.862      -0.514\n",
       "Zeit           0.1022      0.006     17.530      0.000       0.091       0.114\n",
       "==============================================================================\n",
       "\"\"\""
      ]
     },
     "execution_count": 124,
     "metadata": {},
     "output_type": "execute_result"
    }
   ],
   "source": [
    "reg1_gekauft1.summary()"
   ]
  },
  {
   "cell_type": "code",
   "execution_count": 125,
   "id": "d0647b7e",
   "metadata": {},
   "outputs": [
    {
     "data": {
      "text/html": [
       "<table style=\"text-align:center\"><tr><td colspan=\"2\" style=\"border-bottom: 1px solid black\"></td></tr>\n",
       "<tr><td style=\"text-align:left\"></td><td colspan=\"1\"><em>Dependent variable: gekauft_1</em></td></tr><tr><td style=\"text-align:left\"></td><tr><td style=\"text-align:left\"></td><td>(1)</td></tr>\n",
       "<tr><td colspan=\"2\" style=\"border-bottom: 1px solid black\"></td></tr>\n",
       "\n",
       "<tr><td style=\"text-align:left\">Alter</td><td>0.214<sup>***</sup></td></tr>\n",
       "<tr><td style=\"text-align:left\"></td><td>(0.082)</td></tr>\n",
       "<tr><td style=\"text-align:left\">Einkommen</td><td>-0.688<sup>***</sup></td></tr>\n",
       "<tr><td style=\"text-align:left\"></td><td>(0.089)</td></tr>\n",
       "<tr><td style=\"text-align:left\">Geschlecht</td><td>0.120<sup>**</sup></td></tr>\n",
       "<tr><td style=\"text-align:left\"></td><td>(0.050)</td></tr>\n",
       "<tr><td style=\"text-align:left\">Intercept</td><td>-3.877<sup>***</sup></td></tr>\n",
       "<tr><td style=\"text-align:left\"></td><td>(0.239)</td></tr>\n",
       "<tr><td style=\"text-align:left\">Zeit</td><td>0.102<sup>***</sup></td></tr>\n",
       "<tr><td style=\"text-align:left\"></td><td>(0.006)</td></tr>\n",
       "\n",
       "<td colspan=\"2\" style=\"border-bottom: 1px solid black\"></td></tr>\n",
       "<tr><td style=\"text-align: left\">Observations</td><td>1995</td></tr>\n",
       "<tr><td colspan=\"2\" style=\"border-bottom: 1px solid black\"></td></tr><tr><td style=\"text-align: left\">Note:</td><td colspan=\"1\" style=\"text-align: right\"><sup>*</sup>p&lt;0.1; <sup>**</sup>p&lt;0.05; <sup>***</sup>p&lt;0.01</td></tr></table>"
      ],
      "text/plain": [
       "<stargazer.stargazer.Stargazer at 0x2ab8dce0ad0>"
      ]
     },
     "execution_count": 125,
     "metadata": {},
     "output_type": "execute_result"
    }
   ],
   "source": [
    "Stargazer([reg1_gekauft1])"
   ]
  },
  {
   "cell_type": "markdown",
   "id": "1b61040e",
   "metadata": {},
   "source": [
    "# 18. Wie hoch ist die Wahrscheinlichkeit, dass ein 32-jähriger männlicher Kunde mit einem Einkommen von 30.000 Euro, der das Auto 30 Minuten lang getestet hat, eines unserer Modelle kauft? Wie hoch ist die Wahrscheinlichkeit, dass ein 51-jähriger männlicher Kunde mit einem Einkommen von 54.000 Euro, der das Auto 45 Minuten lang getestet hat, eines unserer Modelle kauft?"
   ]
  },
  {
   "cell_type": "code",
   "execution_count": 126,
   "id": "7258c8ba",
   "metadata": {},
   "outputs": [
    {
     "data": {
      "text/html": [
       "<div>\n",
       "<style scoped>\n",
       "    .dataframe tbody tr th:only-of-type {\n",
       "        vertical-align: middle;\n",
       "    }\n",
       "\n",
       "    .dataframe tbody tr th {\n",
       "        vertical-align: top;\n",
       "    }\n",
       "\n",
       "    .dataframe thead th {\n",
       "        text-align: right;\n",
       "    }\n",
       "</style>\n",
       "<table border=\"1\" class=\"dataframe\">\n",
       "  <thead>\n",
       "    <tr style=\"text-align: right;\">\n",
       "      <th></th>\n",
       "      <th>const</th>\n",
       "      <th>Alter</th>\n",
       "      <th>Geschlecht</th>\n",
       "      <th>Einkommen</th>\n",
       "      <th>Zeit</th>\n",
       "    </tr>\n",
       "  </thead>\n",
       "  <tbody>\n",
       "    <tr>\n",
       "      <th>0</th>\n",
       "      <td>1.0</td>\n",
       "      <td>32</td>\n",
       "      <td>1</td>\n",
       "      <td>30000</td>\n",
       "      <td>30</td>\n",
       "    </tr>\n",
       "    <tr>\n",
       "      <th>1</th>\n",
       "      <td>1.0</td>\n",
       "      <td>51</td>\n",
       "      <td>1</td>\n",
       "      <td>54000</td>\n",
       "      <td>45</td>\n",
       "    </tr>\n",
       "  </tbody>\n",
       "</table>\n",
       "</div>"
      ],
      "text/plain": [
       "   const  Alter  Geschlecht  Einkommen  Zeit\n",
       "0    1.0     32           1      30000    30\n",
       "1    1.0     51           1      54000    45"
      ]
     },
     "execution_count": 126,
     "metadata": {},
     "output_type": "execute_result"
    }
   ],
   "source": [
    "Y_predict = pd.DataFrame({\n",
    "    'Alter': [32, 51],           \n",
    "    'Geschlecht': [1, 1],\n",
    "    'Einkommen': [30000, 54000],\n",
    "    \"Zeit\": [30, 45]\n",
    "})\n",
    "\n",
    "Y_predict = add_constant(Y_predict, has_constant='add')\n",
    "Y_predict"
   ]
  },
  {
   "cell_type": "code",
   "execution_count": 127,
   "id": "d5977cb5",
   "metadata": {},
   "outputs": [
    {
     "name": "stderr",
     "output_type": "stream",
     "text": [
      "C:\\ProgramData\\anaconda3\\Lib\\site-packages\\statsmodels\\discrete\\discrete_model.py:2383: RuntimeWarning: overflow encountered in exp\n",
      "  return 1/(1+np.exp(-X))\n"
     ]
    },
    {
     "data": {
      "text/plain": [
       "0    0.0\n",
       "1    0.0\n",
       "dtype: float64"
      ]
     },
     "execution_count": 127,
     "metadata": {},
     "output_type": "execute_result"
    }
   ],
   "source": [
    "predicted_preis = reg1_gekauft1.predict(Y_predict)\n",
    "(predicted_preis*100)"
   ]
  },
  {
   "cell_type": "markdown",
   "id": "07909991",
   "metadata": {},
   "source": [
    "# 19. Auf welche Probleme sind Sie bei der Zusammenführung des Datensatzes gestoßen? Stellen Sie die Operationen vor, die Sie zum Zusammenführen und Bereinigen der Daten durchgeführt haben."
   ]
  },
  {
   "cell_type": "code",
   "execution_count": 128,
   "id": "002941c3",
   "metadata": {},
   "outputs": [],
   "source": [
    "geo_df = pd.read_csv(\"data/geo.txt\", sep = \"\\t\")\n",
    "kunden_df[\"Einkommen\"] = kunden_df[\"Einkommen\"].astype(\"int\")\n",
    "geo_df[\"Niederlassung\"] = geo_df[\"Niederlassung\"].replace([\"Berlin-Charlottenburg\", \"Berlin-Mitte\", \"BERLIN\"], \"Berlin\")\n",
    "data_df.loc[data_df['KundeNr'].isin([\"K0701\", \"K1021\"]), 'Einkommen'] = int(data_df['Einkommen'].median())"
   ]
  },
  {
   "cell_type": "markdown",
   "id": "76a9bca0",
   "metadata": {},
   "source": [
    "# 20. Welche Vorschläge würden Sie der Kundenabteilung für die Umfrage im nächsten Jahr machen? Welche zusätzlichen Informationen sollten gesammelt werden? Formulieren Sie zwei Vorschläge."
   ]
  },
  {
   "cell_type": "code",
   "execution_count": 129,
   "id": "f956385e",
   "metadata": {},
   "outputs": [
    {
     "ename": "SyntaxError",
     "evalue": "invalid syntax (2986260873.py, line 1)",
     "output_type": "error",
     "traceback": [
      "\u001b[1;36m  Cell \u001b[1;32mIn[129], line 1\u001b[1;36m\u001b[0m\n\u001b[1;33m    Vorschlag 1: höchster abgescjlossener bildungsgrad\u001b[0m\n\u001b[1;37m              ^\u001b[0m\n\u001b[1;31mSyntaxError\u001b[0m\u001b[1;31m:\u001b[0m invalid syntax\n"
     ]
    }
   ],
   "source": [
    "Vorschlag 1: höchster abgescjlossener bildungsgrad\n",
    "vorschlag 2: Anzahl der Kinder"
   ]
  }
 ],
 "metadata": {
  "kernelspec": {
   "display_name": "Python 3 (ipykernel)",
   "language": "python",
   "name": "python3"
  },
  "language_info": {
   "codemirror_mode": {
    "name": "ipython",
    "version": 3
   },
   "file_extension": ".py",
   "mimetype": "text/x-python",
   "name": "python",
   "nbconvert_exporter": "python",
   "pygments_lexer": "ipython3",
   "version": "3.11.5"
  }
 },
 "nbformat": 4,
 "nbformat_minor": 5
}
