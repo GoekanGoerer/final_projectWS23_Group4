{
 "cells": [
  {
   "cell_type": "code",
   "execution_count": 1,
   "id": "d295052a",
   "metadata": {
    "slideshow": {
     "slide_type": "skip"
    }
   },
   "outputs": [],
   "source": [
    "import pandas as pd\n",
    "import numpy as np\n",
    "import matplotlib.pyplot as plt\n",
    "import seaborn as sns\n",
    "import plotly.express as px\n",
    "from stargazer.stargazer import Stargazer\n",
    "%matplotlib inline\n",
    "import statsmodels.formula.api as smf\n",
    "import statsmodels.api as sm\n",
    "from statsmodels.api import add_constant\n",
    "import json\n",
    "import geopandas as gpd\n",
    "import plotly.graph_objects as go\n",
    "from sklearn.preprocessing import scale\n",
    "from sklearn.preprocessing import StandardScaler"
   ]
  },
  {
   "cell_type": "code",
   "execution_count": 2,
   "id": "f8d50185",
   "metadata": {
    "slideshow": {
     "slide_type": "skip"
    }
   },
   "outputs": [],
   "source": [
    "df = pd.read_csv(\"data/df_final.csv\")"
   ]
  },
  {
   "cell_type": "code",
   "execution_count": 3,
   "id": "91d59c92",
   "metadata": {},
   "outputs": [],
   "source": [
    "df[\"Niederlassung\"]= df[\"Niederlassung\"].replace(\"Baden-Würtenberg\", \"Baden-Wuertenberg\")\n"
   ]
  },
  {
   "cell_type": "code",
   "execution_count": 4,
   "id": "2e9c73f0",
   "metadata": {},
   "outputs": [
    {
     "data": {
      "text/html": [
       "<div>\n",
       "<style scoped>\n",
       "    .dataframe tbody tr th:only-of-type {\n",
       "        vertical-align: middle;\n",
       "    }\n",
       "\n",
       "    .dataframe tbody tr th {\n",
       "        vertical-align: top;\n",
       "    }\n",
       "\n",
       "    .dataframe thead th {\n",
       "        text-align: right;\n",
       "    }\n",
       "</style>\n",
       "<table border=\"1\" class=\"dataframe\">\n",
       "  <thead>\n",
       "    <tr style=\"text-align: right;\">\n",
       "      <th></th>\n",
       "      <th>Unnamed: 0</th>\n",
       "      <th>Alter</th>\n",
       "      <th>Einkommen</th>\n",
       "      <th>Geschlecht</th>\n",
       "      <th>Zeit</th>\n",
       "      <th>KundeNr</th>\n",
       "      <th>Preis</th>\n",
       "      <th>Niederlassung</th>\n",
       "    </tr>\n",
       "  </thead>\n",
       "  <tbody>\n",
       "    <tr>\n",
       "      <th>0</th>\n",
       "      <td>0</td>\n",
       "      <td>30</td>\n",
       "      <td>39919</td>\n",
       "      <td>0.0</td>\n",
       "      <td>29</td>\n",
       "      <td>K1814</td>\n",
       "      <td>NaN</td>\n",
       "      <td>Bayern</td>\n",
       "    </tr>\n",
       "    <tr>\n",
       "      <th>1</th>\n",
       "      <td>1</td>\n",
       "      <td>41</td>\n",
       "      <td>53430</td>\n",
       "      <td>0.0</td>\n",
       "      <td>27</td>\n",
       "      <td>K1544</td>\n",
       "      <td>NaN</td>\n",
       "      <td>Baden-Wuerttemberg</td>\n",
       "    </tr>\n",
       "    <tr>\n",
       "      <th>2</th>\n",
       "      <td>2</td>\n",
       "      <td>64</td>\n",
       "      <td>73163</td>\n",
       "      <td>0.0</td>\n",
       "      <td>32</td>\n",
       "      <td>K1945</td>\n",
       "      <td>NaN</td>\n",
       "      <td>Baden-Wuerttemberg</td>\n",
       "    </tr>\n",
       "    <tr>\n",
       "      <th>3</th>\n",
       "      <td>3</td>\n",
       "      <td>41</td>\n",
       "      <td>36761</td>\n",
       "      <td>0.0</td>\n",
       "      <td>44</td>\n",
       "      <td>K1825</td>\n",
       "      <td>NaN</td>\n",
       "      <td>Baden-Wuerttemberg</td>\n",
       "    </tr>\n",
       "    <tr>\n",
       "      <th>4</th>\n",
       "      <td>4</td>\n",
       "      <td>35</td>\n",
       "      <td>42684</td>\n",
       "      <td>1.0</td>\n",
       "      <td>33</td>\n",
       "      <td>K1144</td>\n",
       "      <td>NaN</td>\n",
       "      <td>Nordrhein-Westfalen</td>\n",
       "    </tr>\n",
       "  </tbody>\n",
       "</table>\n",
       "</div>"
      ],
      "text/plain": [
       "   Unnamed: 0  Alter  Einkommen  Geschlecht  Zeit KundeNr  Preis  \\\n",
       "0           0     30      39919         0.0    29   K1814    NaN   \n",
       "1           1     41      53430         0.0    27   K1544    NaN   \n",
       "2           2     64      73163         0.0    32   K1945    NaN   \n",
       "3           3     41      36761         0.0    44   K1825    NaN   \n",
       "4           4     35      42684         1.0    33   K1144    NaN   \n",
       "\n",
       "         Niederlassung  \n",
       "0               Bayern  \n",
       "1   Baden-Wuerttemberg  \n",
       "2   Baden-Wuerttemberg  \n",
       "3   Baden-Wuerttemberg  \n",
       "4  Nordrhein-Westfalen  "
      ]
     },
     "execution_count": 4,
     "metadata": {},
     "output_type": "execute_result"
    }
   ],
   "source": [
    "df.head()"
   ]
  },
  {
   "cell_type": "markdown",
   "id": "e67bfe30",
   "metadata": {
    "slideshow": {
     "slide_type": "slide"
    }
   },
   "source": [
    "<font size = \"8\"> Abschlusspraesentation </font>\n",
    "\n",
    "</i> Einfuehrung in Python fuer Daten Analytics</i>\n",
    "\n",
    "<i>HWR Berlin, Wintersemester 2023-2024</i>\n",
    "\n",
    "<i>Goekan Goerer und David Kryzanovskij </i>"
   ]
  },
  {
   "cell_type": "markdown",
   "id": "295b4191",
   "metadata": {
    "slideshow": {
     "slide_type": "slide"
    }
   },
   "source": [
    "# 1. Wie viele Autos wurden verkauft?"
   ]
  },
  {
   "cell_type": "code",
   "execution_count": 5,
   "id": "8da62957",
   "metadata": {
    "slideshow": {
     "slide_type": "fragment"
    }
   },
   "outputs": [
    {
     "data": {
      "text/plain": [
       "1104"
      ]
     },
     "execution_count": 5,
     "metadata": {},
     "output_type": "execute_result"
    }
   ],
   "source": [
    "Anzahl_Autos = df[\"Preis\"].notna().sum()\n",
    "Anzahl_Autos"
   ]
  },
  {
   "cell_type": "markdown",
   "id": "df2a4191",
   "metadata": {
    "slideshow": {
     "slide_type": "slide"
    }
   },
   "source": [
    "# 2. Was ist der Höchst-, Mindest- und Durchschnittspreis der verkauften Autos?"
   ]
  },
  {
   "cell_type": "code",
   "execution_count": 6,
   "id": "dc8c05fe",
   "metadata": {
    "slideshow": {
     "slide_type": "subslide"
    }
   },
   "outputs": [
    {
     "name": "stdout",
     "output_type": "stream",
     "text": [
      "MAX: 165482.31\n",
      "Min: 21471.65\n",
      "AVG: 88975.19871376811\n"
     ]
    }
   ],
   "source": [
    "Hoechst_Preis = df[\"Preis\"].max()\n",
    "print(\"MAX:\", Hoechst_Preis )\n",
    "\n",
    "Mindest_Preis = df[\"Preis\"].min()\n",
    "print(\"Min:\", Mindest_Preis)\n",
    "\n",
    "AVG_Preis = df[\"Preis\"].mean()\n",
    "print(\"AVG:\", AVG_Preis )"
   ]
  },
  {
   "cell_type": "markdown",
   "id": "58b8bef4",
   "metadata": {
    "slideshow": {
     "slide_type": "slide"
    }
   },
   "source": [
    "# 3. Wie hoch war der Gesamtumsatz?"
   ]
  },
  {
   "cell_type": "code",
   "execution_count": 7,
   "id": "a7c841e1",
   "metadata": {
    "slideshow": {
     "slide_type": "subslide"
    }
   },
   "outputs": [
    {
     "name": "stdout",
     "output_type": "stream",
     "text": [
      "Gesamt: 98228619.38\n"
     ]
    }
   ],
   "source": [
    "Gesamt_Umsatz = df[\"Preis\"].sum()\n",
    "print(\"Gesamt:\", Gesamt_Umsatz)"
   ]
  },
  {
   "cell_type": "markdown",
   "id": "3c866de3",
   "metadata": {
    "slideshow": {
     "slide_type": "slide"
    }
   },
   "source": [
    "# 4. Wie viele Autos wurden pro Bundesland verkauft?"
   ]
  },
  {
   "cell_type": "code",
   "execution_count": 8,
   "id": "0532b1d6",
   "metadata": {
    "slideshow": {
     "slide_type": "slide"
    }
   },
   "outputs": [
    {
     "data": {
      "text/plain": [
       "Niederlassung\n",
       "Baden-Wuerttemberg     205\n",
       "Bayern                 188\n",
       "Berlin                 126\n",
       "Brandenburg             37\n",
       "Düsseldorf               1\n",
       "Hamburg                 43\n",
       "Hessen                  96\n",
       "Niedersachsen           96\n",
       "Nordrhein-Westfalen    174\n",
       "Sachsen                 89\n",
       "Thueringen              49\n",
       "Name: Preis, dtype: int64"
      ]
     },
     "execution_count": 8,
     "metadata": {},
     "output_type": "execute_result"
    }
   ],
   "source": [
    "autos_pro_bundesland = df.groupby('Niederlassung')['Preis'].count()\n",
    "autos_pro_bundesland"
   ]
  },
  {
   "cell_type": "code",
   "execution_count": 9,
   "id": "e18d1acc",
   "metadata": {
    "slideshow": {
     "slide_type": "skip"
    }
   },
   "outputs": [
    {
     "ename": "DriverError",
     "evalue": "Failed to read GeoJSON data",
     "output_type": "error",
     "traceback": [
      "\u001b[1;31m---------------------------------------------------------------------------\u001b[0m",
      "\u001b[1;31mCPLE_OpenFailedError\u001b[0m                      Traceback (most recent call last)",
      "File \u001b[1;32mfiona\\\\ogrext.pyx:136\u001b[0m, in \u001b[0;36mfiona.ogrext.gdal_open_vector\u001b[1;34m()\u001b[0m\n",
      "File \u001b[1;32mfiona\\\\_err.pyx:291\u001b[0m, in \u001b[0;36mfiona._err.exc_wrap_pointer\u001b[1;34m()\u001b[0m\n",
      "\u001b[1;31mCPLE_OpenFailedError\u001b[0m: Failed to read GeoJSON data",
      "\nDuring handling of the above exception, another exception occurred:\n",
      "\u001b[1;31mDriverError\u001b[0m                               Traceback (most recent call last)",
      "Cell \u001b[1;32mIn[9], line 1\u001b[0m\n\u001b[1;32m----> 1\u001b[0m germany_map \u001b[38;5;241m=\u001b[39m gpd\u001b[38;5;241m.\u001b[39mread_file(\u001b[38;5;124m\"\u001b[39m\u001b[38;5;124mdata/polygons.json\u001b[39m\u001b[38;5;124m\"\u001b[39m)\n\u001b[0;32m      2\u001b[0m germany_map\u001b[38;5;241m.\u001b[39mhead()\n",
      "File \u001b[1;32m~\\AppData\\Roaming\\Python\\Python311\\site-packages\\geopandas\\io\\file.py:297\u001b[0m, in \u001b[0;36m_read_file\u001b[1;34m(filename, bbox, mask, rows, engine, **kwargs)\u001b[0m\n\u001b[0;32m    294\u001b[0m     \u001b[38;5;28;01melse\u001b[39;00m:\n\u001b[0;32m    295\u001b[0m         path_or_bytes \u001b[38;5;241m=\u001b[39m filename\n\u001b[1;32m--> 297\u001b[0m     \u001b[38;5;28;01mreturn\u001b[39;00m _read_file_fiona(\n\u001b[0;32m    298\u001b[0m         path_or_bytes, from_bytes, bbox\u001b[38;5;241m=\u001b[39mbbox, mask\u001b[38;5;241m=\u001b[39mmask, rows\u001b[38;5;241m=\u001b[39mrows, \u001b[38;5;241m*\u001b[39m\u001b[38;5;241m*\u001b[39mkwargs\n\u001b[0;32m    299\u001b[0m     )\n\u001b[0;32m    301\u001b[0m \u001b[38;5;28;01melse\u001b[39;00m:\n\u001b[0;32m    302\u001b[0m     \u001b[38;5;28;01mraise\u001b[39;00m \u001b[38;5;167;01mValueError\u001b[39;00m(\u001b[38;5;124mf\u001b[39m\u001b[38;5;124m\"\u001b[39m\u001b[38;5;124munknown engine \u001b[39m\u001b[38;5;124m'\u001b[39m\u001b[38;5;132;01m{\u001b[39;00mengine\u001b[38;5;132;01m}\u001b[39;00m\u001b[38;5;124m'\u001b[39m\u001b[38;5;124m\"\u001b[39m)\n",
      "File \u001b[1;32m~\\AppData\\Roaming\\Python\\Python311\\site-packages\\geopandas\\io\\file.py:338\u001b[0m, in \u001b[0;36m_read_file_fiona\u001b[1;34m(path_or_bytes, from_bytes, bbox, mask, rows, where, **kwargs)\u001b[0m\n\u001b[0;32m    335\u001b[0m     reader \u001b[38;5;241m=\u001b[39m fiona\u001b[38;5;241m.\u001b[39mopen\n\u001b[0;32m    337\u001b[0m \u001b[38;5;28;01mwith\u001b[39;00m fiona_env():\n\u001b[1;32m--> 338\u001b[0m     \u001b[38;5;28;01mwith\u001b[39;00m reader(path_or_bytes, \u001b[38;5;241m*\u001b[39m\u001b[38;5;241m*\u001b[39mkwargs) \u001b[38;5;28;01mas\u001b[39;00m features:\n\u001b[0;32m    339\u001b[0m         crs \u001b[38;5;241m=\u001b[39m features\u001b[38;5;241m.\u001b[39mcrs_wkt\n\u001b[0;32m    340\u001b[0m         \u001b[38;5;66;03m# attempt to get EPSG code\u001b[39;00m\n",
      "File \u001b[1;32m~\\AppData\\Roaming\\Python\\Python311\\site-packages\\fiona\\env.py:457\u001b[0m, in \u001b[0;36mensure_env_with_credentials.<locals>.wrapper\u001b[1;34m(*args, **kwds)\u001b[0m\n\u001b[0;32m    454\u001b[0m     session \u001b[38;5;241m=\u001b[39m DummySession()\n\u001b[0;32m    456\u001b[0m \u001b[38;5;28;01mwith\u001b[39;00m env_ctor(session\u001b[38;5;241m=\u001b[39msession):\n\u001b[1;32m--> 457\u001b[0m     \u001b[38;5;28;01mreturn\u001b[39;00m f(\u001b[38;5;241m*\u001b[39margs, \u001b[38;5;241m*\u001b[39m\u001b[38;5;241m*\u001b[39mkwds)\n",
      "File \u001b[1;32m~\\AppData\\Roaming\\Python\\Python311\\site-packages\\fiona\\__init__.py:305\u001b[0m, in \u001b[0;36mopen\u001b[1;34m(fp, mode, driver, schema, crs, encoding, layer, vfs, enabled_drivers, crs_wkt, allow_unsupported_drivers, **kwargs)\u001b[0m\n\u001b[0;32m    302\u001b[0m     path \u001b[38;5;241m=\u001b[39m parse_path(fp)\n\u001b[0;32m    304\u001b[0m \u001b[38;5;28;01mif\u001b[39;00m mode \u001b[38;5;129;01min\u001b[39;00m (\u001b[38;5;124m\"\u001b[39m\u001b[38;5;124ma\u001b[39m\u001b[38;5;124m\"\u001b[39m, \u001b[38;5;124m\"\u001b[39m\u001b[38;5;124mr\u001b[39m\u001b[38;5;124m\"\u001b[39m):\n\u001b[1;32m--> 305\u001b[0m     colxn \u001b[38;5;241m=\u001b[39m Collection(\n\u001b[0;32m    306\u001b[0m         path,\n\u001b[0;32m    307\u001b[0m         mode,\n\u001b[0;32m    308\u001b[0m         driver\u001b[38;5;241m=\u001b[39mdriver,\n\u001b[0;32m    309\u001b[0m         encoding\u001b[38;5;241m=\u001b[39mencoding,\n\u001b[0;32m    310\u001b[0m         layer\u001b[38;5;241m=\u001b[39mlayer,\n\u001b[0;32m    311\u001b[0m         enabled_drivers\u001b[38;5;241m=\u001b[39menabled_drivers,\n\u001b[0;32m    312\u001b[0m         allow_unsupported_drivers\u001b[38;5;241m=\u001b[39mallow_unsupported_drivers,\n\u001b[0;32m    313\u001b[0m         \u001b[38;5;241m*\u001b[39m\u001b[38;5;241m*\u001b[39mkwargs\n\u001b[0;32m    314\u001b[0m     )\n\u001b[0;32m    315\u001b[0m \u001b[38;5;28;01melif\u001b[39;00m mode \u001b[38;5;241m==\u001b[39m \u001b[38;5;124m\"\u001b[39m\u001b[38;5;124mw\u001b[39m\u001b[38;5;124m\"\u001b[39m:\n\u001b[0;32m    316\u001b[0m     colxn \u001b[38;5;241m=\u001b[39m Collection(\n\u001b[0;32m    317\u001b[0m         path,\n\u001b[0;32m    318\u001b[0m         mode,\n\u001b[1;32m   (...)\u001b[0m\n\u001b[0;32m    327\u001b[0m         \u001b[38;5;241m*\u001b[39m\u001b[38;5;241m*\u001b[39mkwargs\n\u001b[0;32m    328\u001b[0m     )\n",
      "File \u001b[1;32m~\\AppData\\Roaming\\Python\\Python311\\site-packages\\fiona\\collection.py:243\u001b[0m, in \u001b[0;36mCollection.__init__\u001b[1;34m(self, path, mode, driver, schema, crs, encoding, layer, vsi, archive, enabled_drivers, crs_wkt, ignore_fields, ignore_geometry, include_fields, wkt_version, allow_unsupported_drivers, **kwargs)\u001b[0m\n\u001b[0;32m    241\u001b[0m \u001b[38;5;28;01mif\u001b[39;00m \u001b[38;5;28mself\u001b[39m\u001b[38;5;241m.\u001b[39mmode \u001b[38;5;241m==\u001b[39m \u001b[38;5;124m\"\u001b[39m\u001b[38;5;124mr\u001b[39m\u001b[38;5;124m\"\u001b[39m:\n\u001b[0;32m    242\u001b[0m     \u001b[38;5;28mself\u001b[39m\u001b[38;5;241m.\u001b[39msession \u001b[38;5;241m=\u001b[39m Session()\n\u001b[1;32m--> 243\u001b[0m     \u001b[38;5;28mself\u001b[39m\u001b[38;5;241m.\u001b[39msession\u001b[38;5;241m.\u001b[39mstart(\u001b[38;5;28mself\u001b[39m, \u001b[38;5;241m*\u001b[39m\u001b[38;5;241m*\u001b[39mkwargs)\n\u001b[0;32m    244\u001b[0m \u001b[38;5;28;01melif\u001b[39;00m \u001b[38;5;28mself\u001b[39m\u001b[38;5;241m.\u001b[39mmode \u001b[38;5;129;01min\u001b[39;00m (\u001b[38;5;124m\"\u001b[39m\u001b[38;5;124ma\u001b[39m\u001b[38;5;124m\"\u001b[39m, \u001b[38;5;124m\"\u001b[39m\u001b[38;5;124mw\u001b[39m\u001b[38;5;124m\"\u001b[39m):\n\u001b[0;32m    245\u001b[0m     \u001b[38;5;28mself\u001b[39m\u001b[38;5;241m.\u001b[39msession \u001b[38;5;241m=\u001b[39m WritingSession()\n",
      "File \u001b[1;32mfiona\\\\ogrext.pyx:588\u001b[0m, in \u001b[0;36mfiona.ogrext.Session.start\u001b[1;34m()\u001b[0m\n",
      "File \u001b[1;32mfiona\\\\ogrext.pyx:143\u001b[0m, in \u001b[0;36mfiona.ogrext.gdal_open_vector\u001b[1;34m()\u001b[0m\n",
      "\u001b[1;31mDriverError\u001b[0m: Failed to read GeoJSON data"
     ]
    }
   ],
   "source": [
    "germany_map = gpd.read_file(\"data/polygons.json\")\n",
    "germany_map.head()"
   ]
  },
  {
   "cell_type": "code",
   "execution_count": null,
   "id": "ab092f0d",
   "metadata": {
    "slideshow": {
     "slide_type": "skip"
    }
   },
   "outputs": [],
   "source": [
    "germany_map = germany_map.rename(columns={\"NAME_1\":\"id\"})\n",
    "germany_map.head()"
   ]
  },
  {
   "cell_type": "code",
   "execution_count": null,
   "id": "d2ad67a0",
   "metadata": {
    "slideshow": {
     "slide_type": "skip"
    }
   },
   "outputs": [],
   "source": [
    "germany_map = germany_map.loc[:, [\"id\", \"geometry\"]]\n",
    "germany_map.head()"
   ]
  },
  {
   "cell_type": "code",
   "execution_count": null,
   "id": "6435bae9",
   "metadata": {
    "slideshow": {
     "slide_type": "slide"
    }
   },
   "outputs": [],
   "source": [
    "data = {\n",
    "    '': ['Baden-Württemberg', 'Bayern', 'Berlin', 'Brandenburg', 'Düsseldorf', 'Hamburg', 'Hessen', 'Niedersachsen', 'Nordrhein-Westfalen', 'Sachsen', 'Thüringen'],\n",
    "    'Anzahl der Verkäufe': [205, 188, 126, 37, 1, 43, 96, 96, 174, 89, 49]\n",
    "}\n",
    "germany_info = pd.DataFrame(data)\n",
    "germany_info"
   ]
  },
  {
   "cell_type": "code",
   "execution_count": null,
   "id": "82031223",
   "metadata": {
    "slideshow": {
     "slide_type": "skip"
    }
   },
   "outputs": [],
   "source": [
    "germany_map_merged = pd.merge(germany_map, germany_info)\n",
    "germany_map_merged"
   ]
  },
  {
   "cell_type": "code",
   "execution_count": null,
   "id": "6ef433c1",
   "metadata": {
    "slideshow": {
     "slide_type": "subslide"
    }
   },
   "outputs": [],
   "source": [
    "fig, ax = plt.subplots(1, figsize = (10, 6))\n",
    "germany_map_merged.plot(column = \"Anzahl der Verkäufe\", ax = ax,\n",
    "                        cmap = \"Greens\", legend = True)\n",
    "\n",
    "ax.axis(\"off\")\n",
    "ax.set_title(\"Anzahl verkaufter Modelle nach Bundesland\")\n",
    "plt.show();"
   ]
  },
  {
   "cell_type": "markdown",
   "id": "62240f61",
   "metadata": {
    "slideshow": {
     "slide_type": "slide"
    }
   },
   "source": [
    "# 5. Wie hoch war der durchschnittliche Umsatz pro Bundesland?"
   ]
  },
  {
   "cell_type": "code",
   "execution_count": null,
   "id": "82c2809c",
   "metadata": {
    "slideshow": {
     "slide_type": "skip"
    }
   },
   "outputs": [],
   "source": [
    "auto_preis_pro_bundesland = df.groupby('Niederlassung')['Preis'].mean()\n",
    "auto_preis_pro_bundesland"
   ]
  },
  {
   "cell_type": "code",
   "execution_count": null,
   "id": "444fc0f2",
   "metadata": {
    "slideshow": {
     "slide_type": "skip"
    }
   },
   "outputs": [],
   "source": [
    "germany_map = gpd.read_file(\"data/polygons.json\")"
   ]
  },
  {
   "cell_type": "code",
   "execution_count": null,
   "id": "0d6cb6b2",
   "metadata": {
    "slideshow": {
     "slide_type": "skip"
    }
   },
   "outputs": [],
   "source": [
    "germany_map = germany_map.rename(columns={\"NAME_1\":\"id\"})"
   ]
  },
  {
   "cell_type": "code",
   "execution_count": null,
   "id": "14df39ea",
   "metadata": {
    "slideshow": {
     "slide_type": "skip"
    }
   },
   "outputs": [],
   "source": [
    "germany_map = germany_map.loc[:, [\"id\", \"geometry\"]]"
   ]
  },
  {
   "cell_type": "code",
   "execution_count": null,
   "id": "c2752ea8",
   "metadata": {
    "slideshow": {
     "slide_type": "skip"
    }
   },
   "outputs": [],
   "source": [
    "data_niederlassung = {\n",
    "    'id': ['Baden-Württemberg', 'Bayern', 'Berlin', 'Brandenburg', 'Düsseldorf', 'Hamburg', 'Hessen', 'Niedersachsen', 'Nordrhein-Westfalen', 'Sachsen', 'Thüringen'],\n",
    "    'Preis': [90969.560000, 89344.313245, 89584.984048, 86673.640811, 120215.500000, 85549.499070, 85864.929479, 87963.312500, 88451.758103, 89455.080674, 90816.994082]\n",
    "}\n",
    "germany_info = pd.DataFrame(data_niederlassung)\n",
    "germany_info"
   ]
  },
  {
   "cell_type": "code",
   "execution_count": null,
   "id": "acd1e9d7",
   "metadata": {
    "slideshow": {
     "slide_type": "skip"
    }
   },
   "outputs": [],
   "source": [
    "germany_map_merged1 = pd.merge(germany_map, germany_info)\n",
    "germany_map_merged1"
   ]
  },
  {
   "cell_type": "code",
   "execution_count": null,
   "id": "9d162c94",
   "metadata": {
    "slideshow": {
     "slide_type": "subslide"
    }
   },
   "outputs": [],
   "source": [
    "fig, ax = plt.subplots(1, figsize = (10, 6))\n",
    "germany_map_merged1.plot(column = \"Preis\", ax = ax,\n",
    "                        cmap = \"Blues\", legend = True)\n",
    "\n",
    "ax.axis(\"off\")\n",
    "ax.set_title(\"Durchschnittlicher Umsatz pro verkaufter Einheit nach Bundesland in EUR\")\n",
    "plt.show();"
   ]
  },
  {
   "cell_type": "code",
   "execution_count": null,
   "id": "6d2e6ce5",
   "metadata": {
    "slideshow": {
     "slide_type": "skip"
    }
   },
   "outputs": [],
   "source": [
    "# 3 key findinds: in thüringen verkaufen wir wenig aber für viel (mehr in thüringen investieren)\n",
    " # baden würtemberg läuft sehr gut(verkaufen viel für viel)\n",
    "    # kein geschäft in Sachsen-Anhalt"
   ]
  },
  {
   "cell_type": "markdown",
   "id": "c040383e",
   "metadata": {
    "slideshow": {
     "slide_type": "slide"
    }
   },
   "source": [
    "# 6. Haben mehr Frauen oder mehr Maenner unsere Autos gekauft?"
   ]
  },
  {
   "cell_type": "code",
   "execution_count": null,
   "id": "fb8df349",
   "metadata": {
    "slideshow": {
     "slide_type": "slide"
    }
   },
   "outputs": [],
   "source": [
    "anzahl_frauen = df[df['Geschlecht'] == 0]['Preis'].count()\n",
    "anzahl_maenner = df[df['Geschlecht'] == 1]['Preis'].count()\n",
    "\n",
    "if anzahl_frauen > anzahl_maenner: \n",
    "    print(\"Die Anzahl der Frauen war hoeher:\", anzahl_frauen, \", die Anzahl der Maenner dagegen war\", anzahl_maenner)\n",
    "else: \n",
    "    print(\"Die Anzahl der Maenner war hoeher:\", anzahl_maenner, \", die Anzahl der Frauen dagegen war\", anzahl_frauen)"
   ]
  },
  {
   "cell_type": "code",
   "execution_count": null,
   "id": "e5139f02",
   "metadata": {
    "slideshow": {
     "slide_type": "fragment"
    }
   },
   "outputs": [],
   "source": [
    "Gekaufte_Autos = ['Maenner', 'Frauen']\n",
    " \n",
    "data = [706, 398]\n",
    "\n",
    "def func(pct, allvalues):\n",
    "    absolute = int(pct / 100.*np.sum(allvalues))\n",
    "    return \"{:.1f}%\\n({:d} )\".format(pct, absolute)\n",
    "\n",
    "fig, ax = plt.subplots(figsize =(10, 7))\n",
    "wedges, texts, autotexts = ax.pie(data, \n",
    "                                  autopct = lambda pct: func(pct, data), \n",
    "                                  labels = Gekaufte_Autos,\n",
    "                                  shadow = True,\n",
    "                                  startangle = 90,\n",
    "                                  textprops = dict(color =\"black\"))\n",
    "\n",
    "ax.legend(\n",
    "          title =\"Gekaufte_Autos\",\n",
    "          loc =\"center left\",\n",
    "          bbox_to_anchor =(1, 0, 0.5, 1))\n",
    "\n",
    "ax.set_title('Haben mehr Frauen oder mehr Männer unsere Autos gekauft?')\n",
    " \n",
    "plt.show()"
   ]
  },
  {
   "cell_type": "markdown",
   "id": "6e50227f",
   "metadata": {
    "slideshow": {
     "slide_type": "slide"
    }
   },
   "source": [
    "# 7. Wie hoch ist das Durchschnittsalter unserer Kunden?"
   ]
  },
  {
   "cell_type": "code",
   "execution_count": null,
   "id": "42b309ad",
   "metadata": {
    "slideshow": {
     "slide_type": "slide"
    }
   },
   "outputs": [],
   "source": [
    "durchschnittsalter = df[df['Preis'].isna()]['Alter'].mean()\n",
    "print(durchschnittsalter)"
   ]
  },
  {
   "cell_type": "markdown",
   "id": "fa106486",
   "metadata": {
    "slideshow": {
     "slide_type": "slide"
    }
   },
   "source": [
    "# 8. Wie hoch ist das Durchschnittsalter der Besucher in unseren Showrooms?"
   ]
  },
  {
   "cell_type": "code",
   "execution_count": null,
   "id": "33edfbcb",
   "metadata": {
    "slideshow": {
     "slide_type": "slide"
    }
   },
   "outputs": [],
   "source": [
    "durchschnittsalter = df[df['Preis'].notna()]['Alter'].mean()\n",
    "print(durchschnittsalter)"
   ]
  },
  {
   "cell_type": "markdown",
   "id": "f632e368",
   "metadata": {
    "slideshow": {
     "slide_type": "slide"
    }
   },
   "source": [
    "# 9. Was ist das Durchschnittsalter unserer männlichen Kunden?"
   ]
  },
  {
   "cell_type": "code",
   "execution_count": null,
   "id": "8012f778",
   "metadata": {
    "slideshow": {
     "slide_type": "slide"
    }
   },
   "outputs": [],
   "source": [
    "anzahl_maenner = df[df['Geschlecht'] == 1]\n",
    "\n",
    "durchschnittsalter = anzahl_maenner[anzahl_maenner['Preis'].isna()]['Alter'].mean()\n",
    "print(durchschnittsalter)"
   ]
  },
  {
   "cell_type": "markdown",
   "id": "b6161561",
   "metadata": {
    "slideshow": {
     "slide_type": "slide"
    }
   },
   "source": [
    "# 10. Wie hoch ist das Durchschnittseinkommen unserer Kunden?"
   ]
  },
  {
   "cell_type": "code",
   "execution_count": null,
   "id": "051ad47f",
   "metadata": {
    "slideshow": {
     "slide_type": "slide"
    }
   },
   "outputs": [],
   "source": [
    "Einkommen = df[df['Preis'].isna()][\"Einkommen\"].mean()\n",
    "print(\"Durchschnittseinkommen:\", Einkommen)"
   ]
  },
  {
   "cell_type": "markdown",
   "id": "5606bdb9",
   "metadata": {
    "slideshow": {
     "slide_type": "slide"
    }
   },
   "source": [
    "# 11. Wie hoch ist die Korrelation (Pearson-Korrelation) zwischen den Variablen Alter, Einkommen, Preis und Zeit? (nur für die Kunden)"
   ]
  },
  {
   "cell_type": "code",
   "execution_count": null,
   "id": "a86baf2e",
   "metadata": {
    "slideshow": {
     "slide_type": "skip"
    }
   },
   "outputs": [],
   "source": [
    "selected_columns = [\"Alter\", \"Einkommen\", \"Preis\", \"Zeit\"]\n",
    "\n",
    "new_df = df[selected_columns]"
   ]
  },
  {
   "cell_type": "code",
   "execution_count": null,
   "id": "24aaaaa1",
   "metadata": {
    "slideshow": {
     "slide_type": "subslide"
    }
   },
   "outputs": [],
   "source": [
    "plt.figure(figsize = (5, 5))\n",
    "\n",
    "sns.heatmap(\n",
    "    new_df.select_dtypes(np.number).corr(),\n",
    "    cmap = 'coolwarm',\n",
    "    annot = True,\n",
    "    annot_kws = {\"size\": 8}\n",
    ");\n",
    "plt.show()"
   ]
  },
  {
   "cell_type": "markdown",
   "id": "95e3f4b5",
   "metadata": {},
   "source": [
    "# 12. Wie ist die Variable Zeit verteilt? (Kunden und Besucher zusammen)"
   ]
  },
  {
   "cell_type": "code",
   "execution_count": null,
   "id": "dfa69825",
   "metadata": {
    "slideshow": {
     "slide_type": "slide"
    }
   },
   "outputs": [],
   "source": [
    "sns.distplot(df[\"Zeit\"])"
   ]
  },
  {
   "cell_type": "markdown",
   "id": "461319b7",
   "metadata": {
    "slideshow": {
     "slide_type": "slide"
    }
   },
   "source": [
    "# 13. Wie viele Kunden haben keinen Kredit bei der Bank genommen, um das Auto zu kaufen? Die Kundenabteilung hat vergessen, diese Informationen zu sammeln. Wir können davon ausgehen, dass die Kunden mit einem Jahreseinkommen, das höher als der Autopreis ist, keinen Bankkredit benötigten"
   ]
  },
  {
   "cell_type": "code",
   "execution_count": null,
   "id": "4a479895",
   "metadata": {
    "slideshow": {
     "slide_type": "subslide"
    }
   },
   "outputs": [],
   "source": [
    "Anzahl_Kreditnehmer = (df['Preis'] > df['Einkommen']).sum()\n",
    "Anzahl_Kreditnehmer"
   ]
  },
  {
   "cell_type": "markdown",
   "id": "5c174ee3",
   "metadata": {
    "slideshow": {
     "slide_type": "slide"
    }
   },
   "source": [
    "# 14. Welches sind die sozioökonomischen Merkmale der Kunden, die den Kaufpreis beeinflussen? Wählen Sie die geeigneten abhängigen Variablen aus und schätzen Sie eine Regression unter Verwendung der geeigneten Methode"
   ]
  },
  {
   "cell_type": "code",
   "execution_count": null,
   "id": "14d35e24",
   "metadata": {
    "slideshow": {
     "slide_type": "skip"
    }
   },
   "outputs": [],
   "source": [
    "model = smf.ols(\"Preis ~ Alter + Geschlecht + Einkommen\", data=df).fit()\n",
    "Stargazer([model])"
   ]
  },
  {
   "cell_type": "code",
   "execution_count": null,
   "id": "5480d2c5",
   "metadata": {
    "slideshow": {
     "slide_type": "subslide"
    }
   },
   "outputs": [],
   "source": [
    "model = sm.OLS.from_formula(\"Preis ~ Alter + Geschlecht + Einkommen\", data=df).fit()\n",
    "model.summary()"
   ]
  },
  {
   "cell_type": "markdown",
   "id": "9ce95f91",
   "metadata": {
    "slideshow": {
     "slide_type": "slide"
    }
   },
   "source": [
    "# 15. Prognostizieren Sie den Kaufpreis eines unserer Autos für einen männlichen Kunden im Alter von 32 Jahren mit einem Einkommen von 30.000 Euro. Prognostizieren Sie den Kaufpreis eines unserer Autos für einen männlichen Kunden im Alter von 51 Jahren und mit einem Einkommen von 54.000 Euro"
   ]
  },
  {
   "cell_type": "code",
   "execution_count": null,
   "id": "e3b693fe",
   "metadata": {
    "slideshow": {
     "slide_type": "skip"
    }
   },
   "outputs": [],
   "source": [
    "from statsmodels.api import add_constant"
   ]
  },
  {
   "cell_type": "code",
   "execution_count": null,
   "id": "2836d4f3",
   "metadata": {
    "slideshow": {
     "slide_type": "subslide"
    }
   },
   "outputs": [],
   "source": [
    "X_predict = pd.DataFrame({\n",
    "    'Alter': [32, 51],           \n",
    "    'Geschlecht': [1, 1],\n",
    "    'Einkommen': [30000, 54000] \n",
    "})\n",
    "\n",
    "X_predict = add_constant(X_predict, has_constant='add')\n",
    "X_predict"
   ]
  },
  {
   "cell_type": "code",
   "execution_count": null,
   "id": "bed67339",
   "metadata": {
    "slideshow": {
     "slide_type": "fragment"
    }
   },
   "outputs": [],
   "source": [
    "predicted_preis = model.predict(X_predict)\n",
    "predicted_preis"
   ]
  },
  {
   "cell_type": "markdown",
   "id": "fc5b4258",
   "metadata": {
    "slideshow": {
     "slide_type": "slide"
    }
   },
   "source": [
    "# 16. In Bezug auf die vorherige Frage: Welche Variable beeinflusst den Preis des Autos am meisten? Mit anderen Worten: Die von Ihnen geschätzten Regressionskoeffizienten müssen direkt vergleichbar sein. Wie sollen die Daten transformiert werden? Tipp: Beta-Werte."
   ]
  },
  {
   "cell_type": "code",
   "execution_count": null,
   "id": "bac44914",
   "metadata": {
    "slideshow": {
     "slide_type": "skip"
    }
   },
   "outputs": [],
   "source": [
    "scaler_X = StandardScaler()"
   ]
  },
  {
   "cell_type": "code",
   "execution_count": null,
   "id": "21abd2f3",
   "metadata": {
    "slideshow": {
     "slide_type": "skip"
    }
   },
   "outputs": [],
   "source": [
    "df[['Alter', 'Geschlecht', 'Einkommen']] = scaler_X.fit_transform(df[['Alter', 'Geschlecht', 'Einkommen']])"
   ]
  },
  {
   "cell_type": "code",
   "execution_count": null,
   "id": "38ab9457",
   "metadata": {
    "slideshow": {
     "slide_type": "skip"
    }
   },
   "outputs": [],
   "source": [
    "scaler_y = StandardScaler()"
   ]
  },
  {
   "cell_type": "code",
   "execution_count": null,
   "id": "20d3fb27",
   "metadata": {
    "slideshow": {
     "slide_type": "skip"
    }
   },
   "outputs": [],
   "source": [
    "df['Preis'] = scaler_y.fit_transform(df[['Preis']])"
   ]
  },
  {
   "cell_type": "code",
   "execution_count": null,
   "id": "1fe9d9ff",
   "metadata": {
    "slideshow": {
     "slide_type": "subslide"
    }
   },
   "outputs": [],
   "source": [
    "try:\n",
    "    model = sm.OLS.from_formula(\"Preis ~ Alter + Geschlecht + Einkommen\", data=df).fit()\n",
    "    print(model.summary())\n",
    "except Exception as e:\n",
    "    print(f\"Error: {str(e)}\")"
   ]
  },
  {
   "cell_type": "markdown",
   "id": "3c15c9b1",
   "metadata": {
    "slideshow": {
     "slide_type": "slide"
    }
   },
   "source": [
    "# 17. Schätzen Sie eine Regression, die die Wahrscheinlichkeit des Kaufs eines Autos ermittelt. Verwenden Sie die entsprechende Methode. Tipp: Logistische Regression."
   ]
  },
  {
   "cell_type": "code",
   "execution_count": null,
   "id": "641ceec7",
   "metadata": {
    "slideshow": {
     "slide_type": "skip"
    }
   },
   "outputs": [],
   "source": [
    "df = pd.read_csv(\"data/df_final.csv\")\n",
    "df['gekauft_1'] = df['Preis'].notna().astype(int)"
   ]
  },
  {
   "cell_type": "code",
   "execution_count": null,
   "id": "e348e9ea",
   "metadata": {
    "slideshow": {
     "slide_type": "skip"
    }
   },
   "outputs": [],
   "source": [
    "df.tail()"
   ]
  },
  {
   "cell_type": "code",
   "execution_count": null,
   "id": "1077f33b",
   "metadata": {
    "slideshow": {
     "slide_type": "skip"
    }
   },
   "outputs": [],
   "source": [
    "reg1_gekauft = smf.logit('gekauft_1 ~ Alter + Geschlecht + Einkommen + Zeit', data=df).fit()"
   ]
  },
  {
   "cell_type": "code",
   "execution_count": null,
   "id": "2066e178",
   "metadata": {
    "slideshow": {
     "slide_type": "subslide"
    }
   },
   "outputs": [],
   "source": [
    "reg1_gekauft.summary()"
   ]
  },
  {
   "cell_type": "code",
   "execution_count": null,
   "id": "ff3adb1a",
   "metadata": {
    "slideshow": {
     "slide_type": "fragment"
    }
   },
   "outputs": [],
   "source": [
    "Stargazer([reg1_gekauft])"
   ]
  },
  {
   "cell_type": "markdown",
   "id": "3502331d",
   "metadata": {
    "slideshow": {
     "slide_type": "slide"
    }
   },
   "source": [
    "# 18. Wie hoch ist die Wahrscheinlichkeit, dass ein 32-jähriger männlicher Kunde mit einem Einkommen von 30.000 Euro, der das Auto 30 Minuten lang getestet hat, eines unserer Modelle kauft? Wie hoch ist die Wahrscheinlichkeit, dass ein 51-jähriger männlicher Kunde mit einem Einkommen von 54.000 Euro, der das Auto 45 Minuten lang getestet hat, eines unserer Modelle kauft?"
   ]
  },
  {
   "cell_type": "code",
   "execution_count": null,
   "id": "91c72d77",
   "metadata": {
    "slideshow": {
     "slide_type": "subslide"
    }
   },
   "outputs": [],
   "source": [
    "Y_predict = pd.DataFrame({\n",
    "    'Alter': [32, 51],           \n",
    "    'Geschlecht': [1, 1],\n",
    "    'Einkommen': [30000, 54000],\n",
    "    \"Zeit\": [30, 45]\n",
    "})\n",
    "\n",
    "Y_predict = add_constant(Y_predict, has_constant='add')\n",
    "Y_predict"
   ]
  },
  {
   "cell_type": "code",
   "execution_count": null,
   "id": "c2456d15",
   "metadata": {
    "slideshow": {
     "slide_type": "fragment"
    }
   },
   "outputs": [],
   "source": [
    "predicted_preis = reg1_gekauft.predict(Y_predict)\n",
    "(predicted_preis*100)"
   ]
  },
  {
   "cell_type": "markdown",
   "id": "634ce7c3",
   "metadata": {
    "slideshow": {
     "slide_type": "slide"
    }
   },
   "source": [
    "# 19. Auf welche Probleme sind Sie bei der Zusammenführung des Datensatzes gestoßen? Stellen Sie die Operationen vor, die Sie zum Zusammenführen und Bereinigen der Daten durchgeführt haben."
   ]
  },
  {
   "cell_type": "markdown",
   "id": "6b89b60c",
   "metadata": {
    "slideshow": {
     "slide_type": "fragment"
    }
   },
   "source": [
    "geo_df = pd.read_csv(\"data/geo.txt\", sep = \"\\t\")\n",
    "kunden_df[\"Einkommen\"] = kunden_df[\"Einkommen\"].astype(\"int\")\n",
    "geo_df[\"Niederlassung\"] = geo_df[\"Niederlassung\"].replace([\"Berlin-Charlottenburg\", \"Berlin-Mitte\", \"BERLIN\"], \"Berlin\")\n",
    "data_df.loc[data_df['KundeNr'].isin([\"K0701\", \"K1021\"]), 'Einkommen'] = int(data_df['Einkommen'].median())"
   ]
  },
  {
   "cell_type": "markdown",
   "id": "a5582517",
   "metadata": {
    "slideshow": {
     "slide_type": "slide"
    }
   },
   "source": [
    "# 20. Welche Vorschläge würden Sie der Kundenabteilung für die Umfrage im nächsten Jahr machen? Welche zusätzlichen Informationen sollten gesammelt werden? Formulieren Sie zwei Vorschläge."
   ]
  },
  {
   "cell_type": "markdown",
   "id": "1d70d118",
   "metadata": {
    "slideshow": {
     "slide_type": "fragment"
    }
   },
   "source": [
    "Wir würden unserer Kundenabteilung vorschlagen in Zukunft Informationen, über den hoechsten abgeschlossenen Bildungsgrad unserer Kunden, als auch das Datum des Kaufes zu sammeln. "
   ]
  },
  {
   "cell_type": "code",
   "execution_count": null,
   "id": "60675076",
   "metadata": {},
   "outputs": [],
   "source": []
  }
 ],
 "metadata": {
  "celltoolbar": "Slideshow",
  "kernelspec": {
   "display_name": "Python 3 (ipykernel)",
   "language": "python",
   "name": "python3"
  },
  "language_info": {
   "codemirror_mode": {
    "name": "ipython",
    "version": 3
   },
   "file_extension": ".py",
   "mimetype": "text/x-python",
   "name": "python",
   "nbconvert_exporter": "python",
   "pygments_lexer": "ipython3",
   "version": "3.11.5"
  }
 },
 "nbformat": 4,
 "nbformat_minor": 5
}
